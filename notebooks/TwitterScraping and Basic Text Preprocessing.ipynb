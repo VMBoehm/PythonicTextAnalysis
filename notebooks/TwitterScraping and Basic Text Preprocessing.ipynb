{
 "cells": [
  {
   "cell_type": "code",
   "execution_count": 39,
   "metadata": {},
   "outputs": [],
   "source": [
    "import twitter\n",
    "import pandas as pd\n",
    "import matplotlib.pyplot as plt"
   ]
  },
  {
   "cell_type": "code",
   "execution_count": 2,
   "metadata": {},
   "outputs": [],
   "source": [
    "#### https://github.com/bear/python-twitter/blob/master/get_access_token.py\n",
    "\n",
    "from __future__ import print_function\n",
    "\n",
    "from requests_oauthlib import OAuth1Session\n",
    "import webbrowser\n",
    "\n",
    "import sys\n",
    "\n",
    "if sys.version_info.major < 3:\n",
    "    input = raw_input\n",
    "\n",
    "REQUEST_TOKEN_URL = 'https://api.twitter.com/oauth/request_token'\n",
    "ACCESS_TOKEN_URL = 'https://api.twitter.com/oauth/access_token'\n",
    "AUTHORIZATION_URL = 'https://api.twitter.com/oauth/authorize'\n",
    "SIGNIN_URL = 'https://api.twitter.com/oauth/authenticate'\n",
    "\n",
    "\n",
    "def get_access_token(consumer_key, consumer_secret):\n",
    "    \"\"\"Get an access token for a given consumer key and secret.\n",
    "    Args:\n",
    "        consumer_key (str):\n",
    "            Your application consumer key.\n",
    "        consumer_secret (str):\n",
    "            Your application consumer secret.\n",
    "    Returns:\n",
    "        (None) Prints to command line.\n",
    "    \"\"\"\n",
    "    oauth_client = OAuth1Session(consumer_key, client_secret=consumer_secret, callback_uri='oob')\n",
    "\n",
    "    print('\\nRequesting temp token from Twitter...\\n')\n",
    "\n",
    "    resp = oauth_client.fetch_request_token(REQUEST_TOKEN_URL)\n",
    "\n",
    "    url = oauth_client.authorization_url(AUTHORIZATION_URL)\n",
    "\n",
    "    print('I will try to start a browser to visit the following Twitter page '\n",
    "          'if a browser will not start, copy the URL to your browser '\n",
    "          'and retrieve the pincode to be used '\n",
    "          'in the next step to obtaining an Authentication Token: \\n'\n",
    "          '\\n\\t{0}'.format(url))\n",
    "\n",
    "    webbrowser.open(url)\n",
    "    pincode = input('\\nEnter your pincode? ')\n",
    "\n",
    "    print('\\nGenerating and signing request for an access token...\\n')\n",
    "\n",
    "    oauth_client = OAuth1Session(consumer_key, client_secret=consumer_secret,\n",
    "                                 resource_owner_key=resp.get('oauth_token'),\n",
    "                                 resource_owner_secret=resp.get('oauth_token_secret'),\n",
    "                                 verifier=pincode)\n",
    "    try:\n",
    "        resp = oauth_client.fetch_access_token(ACCESS_TOKEN_URL)\n",
    "    except ValueError as e:\n",
    "        raise 'Invalid response from Twitter requesting temp token: {0}'.format(e)\n",
    "\n",
    "    print('''Your tokens/keys are as follows:\n",
    "        consumer_key         = {ck}\n",
    "        consumer_secret      = {cs}\n",
    "        access_token_key     = {atk}\n",
    "        access_token_secret  = {ats}'''.format(\n",
    "            ck=consumer_key,\n",
    "            cs=consumer_secret,\n",
    "            atk=resp.get('oauth_token'),\n",
    "            ats=resp.get('oauth_token_secret')))\n",
    "\n",
    "\n",
    "def main():\n",
    "    \"\"\"Run script to get access token and secret for given app.\"\"\"\n",
    "    consumer_key = input('Enter your consumer key: ')\n",
    "    consumer_secret = input('Enter your consumer secret: ')\n",
    "    get_access_token(consumer_key, consumer_secret)"
   ]
  },
  {
   "cell_type": "code",
   "execution_count": 3,
   "metadata": {
    "scrolled": true
   },
   "outputs": [
    {
     "ename": "KeyboardInterrupt",
     "evalue": "Interrupted by user",
     "output_type": "error",
     "traceback": [
      "\u001b[0;31m---------------------------------------------------------------------------\u001b[0m",
      "\u001b[0;31mKeyboardInterrupt\u001b[0m                         Traceback (most recent call last)",
      "\u001b[0;32m<ipython-input-3-263240bbee7e>\u001b[0m in \u001b[0;36m<module>\u001b[0;34m\u001b[0m\n\u001b[0;32m----> 1\u001b[0;31m \u001b[0mmain\u001b[0m\u001b[0;34m(\u001b[0m\u001b[0;34m)\u001b[0m\u001b[0;34m\u001b[0m\u001b[0;34m\u001b[0m\u001b[0m\n\u001b[0m",
      "\u001b[0;32m<ipython-input-2-8bbfabc0608b>\u001b[0m in \u001b[0;36mmain\u001b[0;34m()\u001b[0m\n\u001b[1;32m     68\u001b[0m \u001b[0;32mdef\u001b[0m \u001b[0mmain\u001b[0m\u001b[0;34m(\u001b[0m\u001b[0;34m)\u001b[0m\u001b[0;34m:\u001b[0m\u001b[0;34m\u001b[0m\u001b[0;34m\u001b[0m\u001b[0m\n\u001b[1;32m     69\u001b[0m     \u001b[0;34m\"\"\"Run script to get access token and secret for given app.\"\"\"\u001b[0m\u001b[0;34m\u001b[0m\u001b[0;34m\u001b[0m\u001b[0m\n\u001b[0;32m---> 70\u001b[0;31m     \u001b[0mconsumer_key\u001b[0m \u001b[0;34m=\u001b[0m \u001b[0minput\u001b[0m\u001b[0;34m(\u001b[0m\u001b[0;34m'Enter your consumer key: '\u001b[0m\u001b[0;34m)\u001b[0m\u001b[0;34m\u001b[0m\u001b[0;34m\u001b[0m\u001b[0m\n\u001b[0m\u001b[1;32m     71\u001b[0m     \u001b[0mconsumer_secret\u001b[0m \u001b[0;34m=\u001b[0m \u001b[0minput\u001b[0m\u001b[0;34m(\u001b[0m\u001b[0;34m'Enter your consumer secret: '\u001b[0m\u001b[0;34m)\u001b[0m\u001b[0;34m\u001b[0m\u001b[0;34m\u001b[0m\u001b[0m\n\u001b[1;32m     72\u001b[0m     \u001b[0mget_access_token\u001b[0m\u001b[0;34m(\u001b[0m\u001b[0mconsumer_key\u001b[0m\u001b[0;34m,\u001b[0m \u001b[0mconsumer_secret\u001b[0m\u001b[0;34m)\u001b[0m\u001b[0;34m\u001b[0m\u001b[0;34m\u001b[0m\u001b[0m\n",
      "\u001b[0;32m~/miniconda3/envs/txtanalysis/lib/python3.8/site-packages/ipykernel/kernelbase.py\u001b[0m in \u001b[0;36mraw_input\u001b[0;34m(self, prompt)\u001b[0m\n\u001b[1;32m    858\u001b[0m                 \u001b[0;34m\"raw_input was called, but this frontend does not support input requests.\"\u001b[0m\u001b[0;34m\u001b[0m\u001b[0;34m\u001b[0m\u001b[0m\n\u001b[1;32m    859\u001b[0m             )\n\u001b[0;32m--> 860\u001b[0;31m         return self._input_request(str(prompt),\n\u001b[0m\u001b[1;32m    861\u001b[0m             \u001b[0mself\u001b[0m\u001b[0;34m.\u001b[0m\u001b[0m_parent_ident\u001b[0m\u001b[0;34m,\u001b[0m\u001b[0;34m\u001b[0m\u001b[0;34m\u001b[0m\u001b[0m\n\u001b[1;32m    862\u001b[0m             \u001b[0mself\u001b[0m\u001b[0;34m.\u001b[0m\u001b[0m_parent_header\u001b[0m\u001b[0;34m,\u001b[0m\u001b[0;34m\u001b[0m\u001b[0;34m\u001b[0m\u001b[0m\n",
      "\u001b[0;32m~/miniconda3/envs/txtanalysis/lib/python3.8/site-packages/ipykernel/kernelbase.py\u001b[0m in \u001b[0;36m_input_request\u001b[0;34m(self, prompt, ident, parent, password)\u001b[0m\n\u001b[1;32m    902\u001b[0m             \u001b[0;32mexcept\u001b[0m \u001b[0mKeyboardInterrupt\u001b[0m\u001b[0;34m:\u001b[0m\u001b[0;34m\u001b[0m\u001b[0;34m\u001b[0m\u001b[0m\n\u001b[1;32m    903\u001b[0m                 \u001b[0;31m# re-raise KeyboardInterrupt, to truncate traceback\u001b[0m\u001b[0;34m\u001b[0m\u001b[0;34m\u001b[0m\u001b[0;34m\u001b[0m\u001b[0m\n\u001b[0;32m--> 904\u001b[0;31m                 \u001b[0;32mraise\u001b[0m \u001b[0mKeyboardInterrupt\u001b[0m\u001b[0;34m(\u001b[0m\u001b[0;34m\"Interrupted by user\"\u001b[0m\u001b[0;34m)\u001b[0m \u001b[0;32mfrom\u001b[0m \u001b[0;32mNone\u001b[0m\u001b[0;34m\u001b[0m\u001b[0;34m\u001b[0m\u001b[0m\n\u001b[0m\u001b[1;32m    905\u001b[0m             \u001b[0;32mexcept\u001b[0m \u001b[0mException\u001b[0m \u001b[0;32mas\u001b[0m \u001b[0me\u001b[0m\u001b[0;34m:\u001b[0m\u001b[0;34m\u001b[0m\u001b[0;34m\u001b[0m\u001b[0m\n\u001b[1;32m    906\u001b[0m                 \u001b[0mself\u001b[0m\u001b[0;34m.\u001b[0m\u001b[0mlog\u001b[0m\u001b[0;34m.\u001b[0m\u001b[0mwarning\u001b[0m\u001b[0;34m(\u001b[0m\u001b[0;34m\"Invalid Message:\"\u001b[0m\u001b[0;34m,\u001b[0m \u001b[0mexc_info\u001b[0m\u001b[0;34m=\u001b[0m\u001b[0;32mTrue\u001b[0m\u001b[0;34m)\u001b[0m\u001b[0;34m\u001b[0m\u001b[0;34m\u001b[0m\u001b[0m\n",
      "\u001b[0;31mKeyboardInterrupt\u001b[0m: Interrupted by user"
     ]
    }
   ],
   "source": [
    "main()"
   ]
  },
  {
   "cell_type": "code",
   "execution_count": 4,
   "metadata": {},
   "outputs": [],
   "source": [
    "\n"
   ]
  },
  {
   "cell_type": "code",
   "execution_count": 5,
   "metadata": {},
   "outputs": [],
   "source": [
    "api = twitter.Api(consumer_key=consumer_key,\n",
    "                              consumer_secret=consumer_secret,\n",
    "                              access_token_key=access_token_key,\n",
    "                              access_token_secret=access_token_secret)"
   ]
  },
  {
   "cell_type": "code",
   "execution_count": 6,
   "metadata": {},
   "outputs": [
    {
     "name": "stdout",
     "output_type": "stream",
     "text": [
      "{\"created_at\": \"Mon Jun 15 22:05:34 +0000 2020\", \"default_profile\": true, \"description\": \"Cosmologists with interest in Earth\", \"favourites_count\": 12, \"followers_count\": 1, \"friends_count\": 35, \"id\": 1272650783918448640, \"id_str\": \"1272650783918448640\", \"name\": \"Vanessa Boehm\", \"profile_background_color\": \"F5F8FA\", \"profile_banner_url\": \"https://pbs.twimg.com/profile_banners/1272650783918448640/1592260389\", \"profile_image_url\": \"http://pbs.twimg.com/profile_images/1272658299679150081/hcWVZGJh_normal.jpg\", \"profile_image_url_https\": \"https://pbs.twimg.com/profile_images/1272658299679150081/hcWVZGJh_normal.jpg\", \"profile_link_color\": \"1DA1F2\", \"profile_sidebar_border_color\": \"C0DEED\", \"profile_sidebar_fill_color\": \"DDEEF6\", \"profile_text_color\": \"333333\", \"profile_use_background_image\": true, \"screen_name\": \"VanessaBoehm8\", \"status\": {\"created_at\": \"Tue Jun 16 21:56:41 +0000 2020\", \"id\": 1273011640758231041, \"id_str\": \"1273011640758231041\", \"lang\": \"en\", \"retweet_count\": 2, \"retweeted\": true, \"retweeted_status\": {\"created_at\": \"Mon Jun 15 20:50:25 +0000 2020\", \"favorite_count\": 3, \"id\": 1272632578822959104, \"id_str\": \"1272632578822959104\", \"lang\": \"en\", \"retweet_count\": 2, \"retweeted\": true, \"source\": \"<a href=\\\"https://mobile.twitter.com\\\" rel=\\\"nofollow\\\">Twitter Web App</a>\", \"text\": \"Housing advocates, tell San Ramon's Planning Commission to approve the CityWalk Master Plan by @bishopranch. This p\\u2026 https://t.co/WSvQlAUkp9\", \"truncated\": true}, \"source\": \"<a href=\\\"https://mobile.twitter.com\\\" rel=\\\"nofollow\\\">Twitter Web App</a>\", \"text\": \"RT @gbeltalliance: Housing advocates, tell San Ramon's Planning Commission to approve the CityWalk Master Plan by @bishopranch. This plan i\\u2026\"}, \"statuses_count\": 11}\n"
     ]
    }
   ],
   "source": [
    "print(api.VerifyCredentials())"
   ]
  },
  {
   "cell_type": "code",
   "execution_count": 7,
   "metadata": {},
   "outputs": [
    {
     "data": {
      "text/plain": [
       "[User(ID=1271253492603080705, ScreenName=chmod_i)]"
      ]
     },
     "execution_count": 7,
     "metadata": {},
     "output_type": "execute_result"
    }
   ],
   "source": [
    "api.GetFollowers()"
   ]
  },
  {
   "cell_type": "code",
   "execution_count": 8,
   "metadata": {},
   "outputs": [],
   "source": [
    "timeline = api.GetUserTimeline(screen_name='BernieSanders', count=1000)"
   ]
  },
  {
   "cell_type": "code",
   "execution_count": 12,
   "metadata": {},
   "outputs": [
    {
     "data": {
      "text/plain": [
       "Status(ID=1273320164222742533, ScreenName=BernieSanders, Created=Wed Jun 17 18:22:38 +0000 2020, Text='Two years ago, Amazon raised their minimum wage to $15 an hour. Today, Target raised their minimum wage to $15 an h… https://t.co/324PrvkkTZ')"
      ]
     },
     "execution_count": 12,
     "metadata": {},
     "output_type": "execute_result"
    }
   ],
   "source": [
    "timeline[0]"
   ]
  },
  {
   "cell_type": "code",
   "execution_count": 13,
   "metadata": {},
   "outputs": [],
   "source": [
    "def convert_twitter_output(timeline):\n",
    "    output = []\n",
    "    for tweet in timeline:\n",
    "        tw ={'created':tweet.created_at,'text':tweet.text}\n",
    "        output.append(tw)\n",
    "    return output\n",
    "    "
   ]
  },
  {
   "cell_type": "code",
   "execution_count": 14,
   "metadata": {
    "scrolled": false
   },
   "outputs": [],
   "source": [
    "tweets = convert_twitter_output(timeline)"
   ]
  },
  {
   "cell_type": "code",
   "execution_count": 15,
   "metadata": {},
   "outputs": [],
   "source": [
    "df = pd.DataFrame(tweets)"
   ]
  },
  {
   "cell_type": "code",
   "execution_count": 16,
   "metadata": {},
   "outputs": [
    {
     "data": {
      "text/plain": [
       "0      Two years ago, Amazon raised their minimum wag...\n",
       "1      “My son and so many other children, their live...\n",
       "2      This is what narcissism is about. Trump, in or...\n",
       "3      We are going to take the fight for justice fro...\n",
       "4      The people are crying out against police bruta...\n",
       "                             ...                        \n",
       "195    This is what a rigged and corrupt economy look...\n",
       "196    This is catastrophic. We need to keep every em...\n",
       "197    The coronavirus crisis has had a devastating e...\n",
       "198    RT @RealJusticePAC: TONIGHT: Jails are major C...\n",
       "199    TONIGHT: Join us for a live town hall on the d...\n",
       "Name: text, Length: 200, dtype: object"
      ]
     },
     "execution_count": 16,
     "metadata": {},
     "output_type": "execute_result"
    }
   ],
   "source": [
    "df['text']"
   ]
  },
  {
   "cell_type": "code",
   "execution_count": 17,
   "metadata": {},
   "outputs": [],
   "source": [
    "import re"
   ]
  },
  {
   "cell_type": "code",
   "execution_count": 18,
   "metadata": {},
   "outputs": [],
   "source": [
    "# cleaning \n",
    "\n",
    "def remove_url(txt):\n",
    "    return re.sub(r\"http\\S+\", \"\", txt)\n",
    "    \n",
    "def remove_rt(txt):\n",
    "    return re.sub(r\"RT\", \"\", txt)\n",
    "      \n",
    "def remove_hashtag(txt):\n",
    "    return re.sub(r'#\\S+','', txt)\n",
    "\n",
    "def remove_mentions(txt):\n",
    "    return re.sub(r'@\\S+','', txt)\n",
    "\n",
    "def remove_controls(txt):\n",
    "    return re.sub(r'[\\n\\r\\t\\f\\v]','',txt)\n",
    "\n",
    "def remove_whitespaces(txt):\n",
    "    return re.sub(r'  +','',txt)\n",
    "\n",
    "def remove_whitespaces_start_end(txt):\n",
    "    return re.sub(r'^\\s+|\\s+$','',txt)\n",
    "\n",
    "def remove_numbers(txt):\n",
    "    return re.sub(r'\\d','',txt)\n",
    "\n",
    "def remove_special_characters(txt):\n",
    "    return re.sub(r'[^\\w ]+','',txt)\n",
    "\n",
    "\n",
    "function_list=[remove_url, remove_rt, remove_controls, remove_mentions, remove_hashtag, remove_whitespaces, remove_numbers, remove_special_characters, remove_whitespaces_start_end]"
   ]
  },
  {
   "cell_type": "code",
   "execution_count": 19,
   "metadata": {},
   "outputs": [],
   "source": [
    "for func in function_list:\n",
    "    df['text'] = df['text'].apply(lambda x: func(x))"
   ]
  },
  {
   "cell_type": "code",
   "execution_count": 20,
   "metadata": {},
   "outputs": [
    {
     "name": "stdout",
     "output_type": "stream",
     "text": [
      "0      Two years ago Amazon raised their minimum wage...\n",
      "1      My son and so many other children their lives ...\n",
      "2      This is what narcissism is about Trump in orde...\n",
      "3      We are going to take the fight for justice fro...\n",
      "4      The people are crying out against police bruta...\n",
      "                             ...                        \n",
      "195    This is what a rigged and corrupt economy look...\n",
      "196    This is catastrophic We need to keep every emp...\n",
      "197    The coronavirus crisis has had a devastating e...\n",
      "198    TONIGHT Jails are major COVID hotspots and thi...\n",
      "199    TONIGHT Join us for a live town hall on the de...\n",
      "Name: text, Length: 200, dtype: object\n"
     ]
    }
   ],
   "source": [
    "print(df['text'])"
   ]
  },
  {
   "cell_type": "code",
   "execution_count": 21,
   "metadata": {},
   "outputs": [],
   "source": [
    "import nltk\n",
    "#nltk.download()"
   ]
  },
  {
   "cell_type": "code",
   "execution_count": 22,
   "metadata": {},
   "outputs": [],
   "source": [
    "from nltk.tokenize import RegexpTokenizer"
   ]
  },
  {
   "cell_type": "code",
   "execution_count": 23,
   "metadata": {},
   "outputs": [],
   "source": [
    "tokenizer = RegexpTokenizer(r'\\w+')\n",
    "    \n",
    "df['text'] = df['text'].apply(lambda x: tokenizer.tokenize(x.lower()))"
   ]
  },
  {
   "cell_type": "code",
   "execution_count": 24,
   "metadata": {},
   "outputs": [],
   "source": [
    "from nltk.corpus import stopwords\n",
    "\n",
    "def remove_stopwords(x):\n",
    "    return [ww for ww in x if ww not in stopwords.words('english')]\n",
    "\n",
    "df['text'] = df['text'].apply(lambda x: remove_stopwords(x)) "
   ]
  },
  {
   "cell_type": "code",
   "execution_count": 25,
   "metadata": {},
   "outputs": [],
   "source": [
    "from nltk.stem import WordNetLemmatizer\n",
    "lemmatizer= WordNetLemmatizer()"
   ]
  },
  {
   "cell_type": "code",
   "execution_count": 26,
   "metadata": {},
   "outputs": [],
   "source": [
    "def word_lemmatizer(x):\n",
    "    return [lemmatizer.lemmatize(ww) for ww in x]\n",
    "\n",
    "df['text'] = df['text'].apply(lambda x: word_lemmatizer(x)) "
   ]
  },
  {
   "cell_type": "code",
   "execution_count": 27,
   "metadata": {},
   "outputs": [],
   "source": [
    "def resolve_lists(x):\n",
    "    return \" \".join(ww for ww in x)"
   ]
  },
  {
   "cell_type": "code",
   "execution_count": 28,
   "metadata": {},
   "outputs": [],
   "source": [
    "df['text'] = df['text'].apply(lambda x: resolve_lists(x)) "
   ]
  },
  {
   "cell_type": "code",
   "execution_count": 29,
   "metadata": {},
   "outputs": [],
   "source": [
    "from textblob import TextBlob"
   ]
  },
  {
   "cell_type": "code",
   "execution_count": 42,
   "metadata": {},
   "outputs": [],
   "source": [
    "def senti(x):\n",
    "    return TextBlob(x).sentiment \n",
    "\n",
    "df['sentiment']=df['text'].apply(lambda x: senti(x).polarity)\n",
    "df['subjectivity']=df['text'].apply(lambda x: senti(x).subjectivity)"
   ]
  },
  {
   "cell_type": "code",
   "execution_count": 43,
   "metadata": {},
   "outputs": [
    {
     "data": {
      "image/png": "[encoded data removed]",
      "text/plain": [
       "<Figure size 432x288 with 1 Axes>"
      ]
     },
     "metadata": {
      "needs_background": "light"
     },
     "output_type": "display_data"
    },
    {
     "data": {
      "image/png": "[encoded data removed]",
      "text/plain": [
       "<Figure size 432x288 with 1 Axes>"
      ]
     },
     "metadata": {
      "needs_background": "light"
     },
     "output_type": "display_data"
    }
   ],
   "source": [
    "plt.hist(df['sentiment'])\n",
    "plt.show()\n",
    "plt.hist(df['subjectivity'])\n",
    "plt.show()"
   ]
  },
  {
   "cell_type": "code",
   "execution_count": null,
   "metadata": {},
   "outputs": [],
   "source": []
  }
 ],
 "metadata": {
  "kernelspec": {
   "display_name": "TxtAnalysis",
   "language": "python",
   "name": "txtanalysis"
  },
  "language_info": {
   "codemirror_mode": {
    "name": "ipython",
    "version": 3
   },
   "file_extension": ".py",
   "mimetype": "text/x-python",
   "name": "python",
   "nbconvert_exporter": "python",
   "pygments_lexer": "ipython3",
   "version": "3.8.3"
  }
 },
 "nbformat": 4,
 "nbformat_minor": 4
}
